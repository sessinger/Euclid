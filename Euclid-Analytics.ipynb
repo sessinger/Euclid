{
 "metadata": {
  "name": "",
  "signature": "sha256:0ea9723554e4570f2a7d81ff49f63a09eaaec75b8aff3f3d13093589082c6a9f"
 },
 "nbformat": 3,
 "nbformat_minor": 0,
 "worksheets": [
  {
   "cells": [
    {
     "cell_type": "heading",
     "level": 2,
     "metadata": {},
     "source": [
      "Euclid Public Dataset - Exploratory Analysis"
     ]
    },
    {
     "cell_type": "code",
     "collapsed": false,
     "input": [
      "# Example dataset: c2s1.csv\n",
      "# This dataset contains 857,986 records, captured over a period of 15 days, with each record belonging to one of 10,005 unique device\n",
      "# IDs. Each record has been obtained from a wireless device via an access point located in the store. In order to provide actionable\n",
      "# insight to the store on customer shopping patterns the data needs to be partitioned between records that originated within\n",
      "# the store versus those external. Therefore, a fundamental challenge in analyzing this data lies in the classification of each\n",
      "# record's location of origin. The dataset is unlabeled with regards to the location of each device at the time of each transmission\n",
      "# and no benchmark data has been provided. \n",
      "\n",
      "# Given the unlabeled nature of the data, one can only assume the origin of each record. Signal strength may be an indicator of \n",
      "# proximity to the store, but is dependent on the sensitivity of the reciever and the power of each device's transmitter among other\n",
      "# phenomenon such as non-linear path loss. Analysis of the 11 devices that are consistently on during the 15 day period show that \n",
      "# this signal strength may vary widely over this time for a given device. Each of these devices are from a different manufacturer and\n",
      "# there are over 1000 different devices in the entire dataset. This data may be useful downstream for calibrating location vs. signal\n",
      "# strength/manufacturer, but would be difficult to infer initially for the above reasons.\n",
      "\n",
      "# A more fruitful approach to initalize the discrimination procedure may be to observe the duration of each device's presence in range\n",
      "# of the access point. Devices that are present for short periods of time are not as likely to have entered the store versus those\n",
      "# that are present longer. Those devices that are present for extended durations over multiple days may belong to employees \n",
      "# working in the store. Without the ground truth we cannot be certain, but these reasonable assumptions I believe move us closer to \n",
      "# solving the discrimination problem. Future work should include analyses of the signal characteristics within and among the \n",
      "# discriminated groups. Benchmarked data would be most useful for building classifiers with predictable accuracy.\n",
      "\n",
      "# Herein I present a method to bin each device ID into 1 of 10 classes on a daily basis. The binning procedure leans on a windowing\n",
      "# filter I have developed to provide time-interval spacing for each device ID. For example, if records were recorded for a device at \n",
      "# 11:00, 11:17 and 11:32 then the window would indicate that the device was present from 11:00 to 11:32. This filter serves to reduce \n",
      "# noise in the frequency of records recorded for each device in range. It is based on the assumption that each device will \n",
      "# periodically interact with the access point while within range. \n",
      "\n",
      "# This notebook is divided into three components:\n",
      "# A. Support Modules and Functions - Code for Windowing Filter and Binning Algorithm\n",
      "# B. Data Binning - Assign device_id to one of 10 classes\n",
      "# C. Data Analysis - Exploratory analysis of binned data"
     ],
     "language": "python",
     "metadata": {},
     "outputs": [],
     "prompt_number": 15
    },
    {
     "cell_type": "heading",
     "level": 3,
     "metadata": {},
     "source": [
      "Support Modules and Functions"
     ]
    },
    {
     "cell_type": "heading",
     "level": 4,
     "metadata": {},
     "source": [
      "Modules"
     ]
    },
    {
     "cell_type": "code",
     "collapsed": false,
     "input": [
      "import numpy as np\n",
      "import pandas as pd\n",
      "from operator import itemgetter\n",
      "from matplotlib import pyplot as plt\n",
      "%matplotlib inline"
     ],
     "language": "python",
     "metadata": {},
     "outputs": [],
     "prompt_number": 1
    },
    {
     "cell_type": "heading",
     "level": 4,
     "metadata": {},
     "source": [
      "Quantizing and Smoothing Function"
     ]
    },
    {
     "cell_type": "code",
     "collapsed": false,
     "input": [
      "# Input:\n",
      "# DATA: DataFrame of metadata for devices on one day of recorded activity\n",
      "# ID: device_ID to window\n",
      "# win_step_size: minimum time between windows of device activity, also aggregating time-interval\n",
      "\n",
      "# Output:\n",
      "# DataFrame for device ID with each index referring a window \n",
      "\n",
      "# How it works: For device ID, start the window at time of first record on day. All subsequent records within win_step_size \n",
      "# of a previous record are included in the window. Once step_size has passed with no additional records, the window is closed at \n",
      "# the time of the last previous record. A new window is started at the time of the next record. Repeat until end of day."
     ],
     "language": "python",
     "metadata": {},
     "outputs": []
    },
    {
     "cell_type": "code",
     "collapsed": false,
     "input": [
      "# Quantizing and Smoothing Function\n",
      "class window:\n",
      "\n",
      "    def __init__(self,t_start,data):\n",
      "        self.t_start = t_start\n",
      "        self.next = None\n",
      "        self.nr = [len(data)]\n",
      "        self.max_sig = [data.max_sig.mean()]\n",
      "        self.events = [data.events.sum()]\n",
      "\n",
      "    def summarize(self,t_stop):\n",
      "        self.nr = np.array(self.nr).sum()\n",
      "        self.max_sig = np.array(self.max_sig).max()\n",
      "        self.events = np.array(self.events).sum()\n",
      "        self.t_stop = t_stop\n",
      "        dur = t_stop-self.t_start\n",
      "        self.duration = dur.seconds\n",
      "        \n",
      "def windowing(DATA,ID,win_step_size=3600):\n",
      "    dt = DATA[DATA['device_ID']==ID].t_open\n",
      "    dates = pd.DatetimeIndex(dt)\n",
      "    span = sorted(dates)\n",
      "\n",
      "    get_ID = DATA['device_ID']==ID\n",
      "    get_t_open = DATA['t_open']==span[0]\n",
      "    record = DATA[get_ID & get_t_open]\n",
      "    w = window(span[0],record)\n",
      "    HEAD = w\n",
      "\n",
      "    for i in range(1,len(span)):\n",
      "        get_t_open = DATA['t_open']==span[i]\n",
      "        record = DATA[get_ID & get_t_open]\n",
      "        step = span[i]-span[i-1]\n",
      "        if step.seconds <= win_step_size:\n",
      "            w.nr.append(len(record))\n",
      "            w.max_sig.append(record.max_sig.mean())\n",
      "            w.events.append(record.events.sum())    \n",
      "        else:\n",
      "            w.summarize(span[i-1])\n",
      "            w.next = window(span[i],record)\n",
      "            w = w.next\n",
      "    try:\n",
      "        w.summarize(span[i]) \n",
      "    except UnboundLocalError:\n",
      "        w.summarize(span[0])\n",
      "        \n",
      "    out = HEAD\n",
      "    OUTPUT = []\n",
      "    while out != None:\n",
      "        OUTPUT.append([out.t_start, out.t_stop, out.duration, out.nr, out.events, out.max_sig, ID]) \n",
      "        out = out.next\n",
      "        \n",
      "    return  pd.DataFrame(OUTPUT, columns=['t_start','t_stop','duration','num_records','num_events','max_sig','device_ID'])"
     ],
     "language": "python",
     "metadata": {},
     "outputs": [],
     "prompt_number": 2
    },
    {
     "cell_type": "heading",
     "level": 4,
     "metadata": {},
     "source": [
      "Binning / Classification Function"
     ]
    },
    {
     "cell_type": "code",
     "collapsed": false,
     "input": [
      "# Input:\n",
      "# DATA: DataFrame for all device_IDs recorded over single day\n",
      "# day_label: returned DataFrame column label\n",
      "# short_win: duration of short time interval\n",
      "# long_win: duration of long time interval\n",
      "# win_step_size: windowing filter parameter\n",
      "\n",
      "# Output:\n",
      "# Unique device IDs observed on day assigned to one of 10 classes for day\n",
      "\n",
      "# Output classes:\n",
      "# 1: Passing - 1 window, less then short_win in duration\n",
      "# 2: Shopper - 1 window, duration between short_win and long_win\n",
      "# 3: Long_Shopper, Employee or Equipment - 1 window, longer than long_win\n",
      "# 4: Passing (Multi-hit per day) - Multiple windows, all shorter than short_win\n",
      "# 5: Long_Shopper, Employee or Equipment (Multi-hit per day) - Multiple windows, some longer than long_win, some shorter\n",
      "# 6: Repeat Shopper - Multiple windows, all between short_win and long_win\n",
      "# 7: Window Shopper - Multiple windows - Some between short_win and long_win, some shorter than short_win \n",
      "# 8: Employee or Equipment (Multi-Long Hits) - Multiple windows, all longer than long_win\n",
      "# 9: No Class - not assigned to any class\n",
      "# 0: Missing on day - device ID was not observed on day (*not internal part of this function, added after)\n",
      "\n",
      "# How it works: Function call to windowing() to get windows for each device ID on a particular day. Then assign each device ID to one \n",
      "# of the classes listed above based on the number and duration of respective windows. "
     ],
     "language": "python",
     "metadata": {},
     "outputs": []
    },
    {
     "cell_type": "code",
     "collapsed": false,
     "input": [
      "def binning(DATA,day_label,short_win,long_win,win_step_size=3600):\n",
      "    devices = DATA['device_ID'].value_counts().index.values\n",
      "    master = pd.DataFrame()\n",
      "    for ID in devices:\n",
      "        dataout = windowing(DATA,ID,win_step_size)\n",
      "        master = master.append(dataout, ignore_index=True)\n",
      "    master = pd.DataFrame(master, columns=['t_start','t_stop','duration','num_records','num_events','max_sig','device_ID'])\n",
      "\n",
      "    # Number of windows per device_ID\n",
      "    num_win = master.groupby(['device_ID'])['device_ID'].count()\n",
      "\n",
      "    # Passing: 1 window and less that short_win\n",
      "    passing = master[(master['device_ID'].isin(num_win[num_win == 1].index.values)) & (master['duration']<=short_win)]\n",
      "    passing_IDs = passing.device_ID.unique()\n",
      "\n",
      "    # Shopper: 1 window and between short_win and long_win\n",
      "    shopper = master[(master['device_ID'].isin(num_win[num_win == 1].index.values)) & (master['duration']>short_win) & (master['duration']<=long_win)]\n",
      "    shopper_IDs = shopper.device_ID.unique()\n",
      "\n",
      "    # Employee, Equipment or Long_Shopper: 1 window and longer than long_win\n",
      "    long_shopper = master[(master['device_ID'].isin(num_win[num_win == 1].index.values)) & (master['duration']>long_win)]\n",
      "    long_shopper_IDs = long_shopper.device_ID.unique()\n",
      "\n",
      "    # Device IDs with multiple windows\n",
      "    multiple_window = master[master['device_ID'].isin(num_win[num_win >= 2].index.values)].groupby(['device_ID'])['duration'].values\n",
      "    multiple_window_IDs = multiple_window.index.values\n",
      "\n",
      "    # Classify Device IDs based on duration of windows\n",
      "    refined = []\n",
      "    for item in multiple_window.values:\n",
      "        if (item <= short_win).all():\n",
      "            refined.append(4) # Passing (Multi-hit)\n",
      "\n",
      "        elif (item>long_win).any() & (item<long_win).any():\n",
      "            refined.append(5) # Employee, Equipment or Long_Shopper\n",
      "\n",
      "        elif ((item>short_win) & (item<=long_win)).all():\n",
      "            refined.append(6) # Repeat shopper\n",
      "\n",
      "        elif (item<=long_win).all() & (item>short_win).any():\n",
      "            refined.append(7) # Window shopper\n",
      "\n",
      "        elif (item>long_win).all():\n",
      "            refined.append(8) # Employee or Equipment\n",
      "\n",
      "        else:\n",
      "            refined.append(9) # No Class\n",
      "\n",
      "    # DataFrame of classes for each device ID for Day: day_label\n",
      "    w = np.ones((passing_IDs.shape[0]))*1\n",
      "    x = np.ones((shopper_IDs.shape[0]))*2\n",
      "    y = np.ones((long_shopper_IDs.shape[0]))*3\n",
      "    z = np.array(refined)\n",
      "    classes = np.hstack((w,x,y,z))\n",
      "    all_IDs = np.hstack((passing_IDs,shopper_IDs,long_shopper_IDs,multiple_window_IDs))\n",
      "    df = pd.DataFrame(classes, index = all_IDs, columns=[day_label])\n",
      "    return df"
     ],
     "language": "python",
     "metadata": {},
     "outputs": [],
     "prompt_number": 3
    },
    {
     "cell_type": "heading",
     "level": 3,
     "metadata": {},
     "source": [
      "Data Binning"
     ]
    },
    {
     "cell_type": "heading",
     "level": 4,
     "metadata": {},
     "source": [
      "Initialization"
     ]
    },
    {
     "cell_type": "code",
     "collapsed": false,
     "input": [
      "# Input Parameters\n",
      "throw_out = 4 # remove device_ID's with less than throw_out records\n",
      "win_step_size=3600 # step size for windowing filter\n",
      "dataset = 'c2s1.csv' # dataset for analysis (Data Binning Procedure should work for all datasets in public)\n",
      "# Window length definitions (s)\n",
      "short_win = 600 # 10 minutes \n",
      "long_win = 9000 # 2.5 hours"
     ],
     "language": "python",
     "metadata": {},
     "outputs": [],
     "prompt_number": 4
    },
    {
     "cell_type": "code",
     "collapsed": false,
     "input": [
      "# Data\n",
      "DATA = pd.read_csv(dataset,header=False,names=['client_name','sensor_name','device_ID','sensor_mac','t_open','t_close','man_ID','events','max_sig','min_sig','sum_sig','sum_sig_squared','sum_sig_cubed','is_ap','ap_id'])"
     ],
     "language": "python",
     "metadata": {},
     "outputs": [],
     "prompt_number": 16
    },
    {
     "cell_type": "heading",
     "level": 4,
     "metadata": {},
     "source": [
      "Preprocessing "
     ]
    },
    {
     "cell_type": "code",
     "collapsed": false,
     "input": [
      "# Remove device_ID's with less than throw_out records\n",
      "device_ID_records = DATA.groupby(['device_ID'])['device_ID'].value_counts()\n",
      "keep = device_ID_records[device_ID_records.values >= throw_out].index.values.tolist()\n",
      "keep = map(lambda x: x[0],keep)\n",
      "DATA = DATA[DATA['device_ID'].isin(keep)]"
     ],
     "language": "python",
     "metadata": {},
     "outputs": [],
     "prompt_number": 6
    },
    {
     "cell_type": "code",
     "collapsed": false,
     "input": [
      "# Convert time fields to Pandas datetime object\n",
      "DATA['t_open'] = pd.to_datetime(DATA['t_open'])\n",
      "DATA['t_close'] = pd.to_datetime(DATA['t_close'])"
     ],
     "language": "python",
     "metadata": {},
     "outputs": [],
     "prompt_number": 7
    },
    {
     "cell_type": "code",
     "collapsed": false,
     "input": [
      "# Compute window of record in seconds\n",
      "DATA['t_window'] = DATA['t_close'] - DATA['t_open']\n",
      "DATA['window_secs'] = DATA['t_window'].apply(lambda x: x / np.timedelta64(1, 's')) # convert time delta window to seconds"
     ],
     "language": "python",
     "metadata": {},
     "outputs": [],
     "prompt_number": 8
    },
    {
     "cell_type": "code",
     "collapsed": false,
     "input": [
      "# Windows where t_close is before t_open\n",
      "DATA[DATA['window_secs']<0]\n",
      "DATA[DATA['window_secs']<0]['device_ID'].value_counts()\n",
      "# Drop them for now since something isn't correct\n",
      "DATA = DATA[DATA.window_secs >= 0]"
     ],
     "language": "python",
     "metadata": {},
     "outputs": [],
     "prompt_number": 9
    },
    {
     "cell_type": "code",
     "collapsed": false,
     "input": [
      "# Add Day Feature to DATA - Easy to grab device_IDs by day\n",
      "DATA['Day'] = DATA.t_open.apply(lambda x:x.day)"
     ],
     "language": "python",
     "metadata": {},
     "outputs": [],
     "prompt_number": 10
    },
    {
     "cell_type": "heading",
     "level": 4,
     "metadata": {},
     "source": [
      "Binning"
     ]
    },
    {
     "cell_type": "code",
     "collapsed": false,
     "input": [
      "DATA_binned = pd.DataFrame()\n",
      "unique_Days = DATA.Day.unique()\n",
      "for item in unique_Days:\n",
      "    DATA_temp = DATA[DATA.Day == item]\n",
      "    day_label = 'Day' + str(item)\n",
      "    df = binning(DATA_temp,day_label,short_win,long_win,win_step_size)\n",
      "    DATA_binned = DATA_binned.join(df,how='outer') # join the DataFrames returned each day\n",
      "    \n",
      "DATA_binned_nonan = DATA_binned.fillna(0) # replace nans with zeros\n",
      "\n",
      "# Shorten binned data name and get list of column names\n",
      "DD = DATA_binned_nonan\n",
      "collist = DD.columns.tolist()"
     ],
     "language": "python",
     "metadata": {},
     "outputs": [],
     "prompt_number": 11
    },
    {
     "cell_type": "heading",
     "level": 3,
     "metadata": {},
     "source": [
      "Data Analysis"
     ]
    },
    {
     "cell_type": "code",
     "collapsed": false,
     "input": [
      "# Number of unique devices in dataset\n",
      "print DD.index.shape[0]"
     ],
     "language": "python",
     "metadata": {},
     "outputs": [
      {
       "output_type": "stream",
       "stream": "stdout",
       "text": [
        "10005\n"
       ]
      }
     ],
     "prompt_number": 19
    },
    {
     "cell_type": "code",
     "collapsed": false,
     "input": [
      "# Number and Percentage of devices only appearing in windows <= short_win (i.e. 10 minutes)\n",
      "data = DD[(DD[collist[0:]]<=1) | (DD[collist[0:]]==4)]\n",
      "dev_short = data.dropna(axis=0,how='any').index\n",
      "print 'Number of devices: %s ' %dev_short.shape[0]\n",
      "print 'Percent: %s ' %str(np.float(dev_short.shape[0])/DD.index.shape[0])\n",
      "\n",
      "# Percentage of records belonging to these devices (dev_short)\n",
      "print 'Percent of records: %s ' %str(np.float(DATA[DATA.device_ID.isin(dev_short.values)].shape[0])/DATA.shape[0])"
     ],
     "language": "python",
     "metadata": {},
     "outputs": [
      {
       "output_type": "stream",
       "stream": "stdout",
       "text": [
        "Number of devices: 6597 \n",
        "Percent: 0.659370314843 \n",
        "Percent of records: 0.0451464243006 "
       ]
      },
      {
       "output_type": "stream",
       "stream": "stdout",
       "text": [
        "\n"
       ]
      }
     ],
     "prompt_number": 23
    },
    {
     "cell_type": "code",
     "collapsed": false,
     "input": [
      "# Number and Percentage of devices only appearing in windows > short_win and < long_win (i.e shoppers)\n",
      "data = DD[(DD[collist[0:]]==0) | (DD[collist[0:]]==6) | (DD[collist[0:]]==2)]\n",
      "dev_shop = data.dropna(axis=0,how='any').index\n",
      "print 'Number of devices: %s ' %dev_shop.shape[0]\n",
      "print 'Percent: %s ' %str(np.float(dev_shop.shape[0])/DD.index.shape[0])\n",
      "\n",
      "# Percentage of records belonging to these devices (dev_long)\n",
      "print 'Percent of records: %s ' %str(np.float(DATA[DATA.device_ID.isin(dev_shop.values)].shape[0])/DATA.shape[0])"
     ],
     "language": "python",
     "metadata": {},
     "outputs": [
      {
       "output_type": "stream",
       "stream": "stdout",
       "text": [
        "Number of devices: 2147 \n",
        "Percent: 0.214592703648 \n",
        "Percent of records: 0.0300948966533 "
       ]
      },
      {
       "output_type": "stream",
       "stream": "stdout",
       "text": [
        "\n"
       ]
      }
     ],
     "prompt_number": 24
    },
    {
     "cell_type": "code",
     "collapsed": false,
     "input": [
      "# Number and Percentage of devices only as \"Window Shoppers\" (Short window and a long window)\n",
      "data = DD[(DD[collist[0:]]==0) | (DD[collist[0:]]==7)]\n",
      "dev_win = data.dropna(axis=0,how='any').index\n",
      "print 'Number of devices: %s ' %dev_win.shape[0]\n",
      "print 'Percent: %s ' %str(np.float(dev_win.shape[0])/DD.index.shape[0])\n",
      "\n",
      "# Percentage of records belonging to these devices (dev_long)\n",
      "print 'Percent of records: %s ' %str(np.float(DATA[DATA.device_ID.isin(dev_win.values)].shape[0])/DATA.shape[0])"
     ],
     "language": "python",
     "metadata": {},
     "outputs": [
      {
       "output_type": "stream",
       "stream": "stdout",
       "text": [
        "Number of devices: 215 \n",
        "Percent: 0.0214892553723 \n",
        "Percent of records: 0.00304433871881 "
       ]
      },
      {
       "output_type": "stream",
       "stream": "stdout",
       "text": [
        "\n"
       ]
      }
     ],
     "prompt_number": 25
    },
    {
     "cell_type": "code",
     "collapsed": false,
     "input": [
      "# Number and Percentage of devices appearing everyday (ignoreing 31st) and > long_win\n",
      "data = DD[(DD[collist[0:-1]]!=0) & ((DD[collist[0:-1]]==3) | (DD[collist[0:-1]]==5) | (DD[collist[0:-1]]==8))]\n",
      "dev_every = data.dropna(axis=0,how='all').index\n",
      "print 'Number of devices: %s ' %dev_every.shape[0]\n",
      "print 'Percent: %s ' %str(np.float(dev_every.shape[0])/DD.index.shape[0])\n",
      "\n",
      "# Percentage of records belonging to these devices (everyday_devices)\n",
      "print 'Percent of records: %s ' %str(np.float(DATA[DATA.device_ID.isin(dev_every.values)].shape[0])/DATA.shape[0])"
     ],
     "language": "python",
     "metadata": {},
     "outputs": [
      {
       "output_type": "stream",
       "stream": "stdout",
       "text": [
        "Number of devices: 149 \n",
        "Percent: 0.0148925537231 \n",
        "Percent of records: 0.801489767898 "
       ]
      },
      {
       "output_type": "stream",
       "stream": "stdout",
       "text": [
        "\n"
       ]
      }
     ],
     "prompt_number": 27
    },
    {
     "cell_type": "code",
     "collapsed": false,
     "input": [
      "# Number of unique shoppers, per day\n",
      "# Ignoring Day31 since only partial data\n",
      "unique_shopper_count = []\n",
      "for i in range(len(collist)):\n",
      "    unique_shopper_count.append(DD[(DD[collist[i]]==2) | (DD[collist[i]]==6)].index.values.shape[0])\n",
      "\n",
      "plt.bar(left=np.arange(len(collist)-1),height=unique_shopper_count[:-1]);\n",
      "plt.grid()\n",
      "plt.ylabel('Unique Shopper Count')\n",
      "plt.xlabel('Day')\n",
      "plt.title('Number of unique shoppers, per day')\n",
      "plt.xticks(np.arange(len(collist)-1),collist[:-1],rotation=45);"
     ],
     "language": "python",
     "metadata": {},
     "outputs": [
      {
       "metadata": {},
       "output_type": "display_data",
       "png": "[encoded data removed]",
       "text": [
        "<matplotlib.figure.Figure at 0x10622a310>"
       ]
      }
     ],
     "prompt_number": 28
    },
    {
     "cell_type": "code",
     "collapsed": false,
     "input": [
      "# Number of repeat shoppers, per day\n",
      "unique_shopper_count = []\n",
      "for i in range(len(collist)):\n",
      "    unique_shopper_count.append(DD[(DD[collist[i]]==6)].index.values.shape[0])\n",
      "\n",
      "plt.bar(left=np.arange(len(collist)-1),height=unique_shopper_count[:-1]);\n",
      "plt.grid()\n",
      "plt.ylabel('Unique Shopper Count')\n",
      "plt.xlabel('Day');\n",
      "plt.title('Number of unique repeat shoppers, per day')\n",
      "plt.xticks(np.arange(len(collist)-1),collist[:-1],rotation=45);"
     ],
     "language": "python",
     "metadata": {},
     "outputs": [
      {
       "metadata": {},
       "output_type": "display_data",
       "png": "[encoded data removed]",
       "text": [
        "<matplotlib.figure.Figure at 0x10b52fb50>"
       ]
      }
     ],
     "prompt_number": 29
    },
    {
     "cell_type": "code",
     "collapsed": false,
     "input": [
      "# Number of unique daily shoppers, week vs weekend\n",
      "# Weekend 2/3, 9/10\n",
      "weekend = ['Day2','Day3','Day9','Day10']\n",
      "weekday = [day for day in collist if day not in weekend]\n",
      "data_weekend = DD[(DD[weekend]==6) | (DD[weekend]==2)]\n",
      "data_weekday = DD[(DD[weekday]==6) | (DD[weekday]==2)]\n",
      "data_compare = [data_weekend[weekend].count().values, data_weekday[weekday].count().values]\n",
      "plt.boxplot(data_compare);\n",
      "plt.title('Number of Daily Shoppers Weekend vs. Weekday');\n",
      "plt.xlabel('Category');\n",
      "plt.ylabel('Unique Daily Shopper Counts');\n",
      "plt.xticks([1,2],['Weekend','Weekday']);"
     ],
     "language": "python",
     "metadata": {},
     "outputs": [
      {
       "metadata": {},
       "output_type": "display_data",
       "png": "[encoded data removed]",
       "text": [
        "<matplotlib.figure.Figure at 0x111294250>"
       ]
      }
     ],
     "prompt_number": 30
    },
    {
     "cell_type": "code",
     "collapsed": false,
     "input": [
      "# Max, Min and Differential Signal per Window, Passing vs Shopping vs Everyday_Long\n",
      "# The plots indicate that there is much overlap in signal strength between passing and shopping classes. Therefore, it is probably\n",
      "# not a good feature for discriminating the classes by itself.\n",
      "\n",
      "maxsig_short = DATA[DATA.device_ID.isin(dev_short.values)].max_sig.values\n",
      "minsig_short = DATA[DATA.device_ID.isin(dev_short.values)].min_sig.values\n",
      "diffsig_short = maxsig_short - minsig_short\n",
      "\n",
      "maxsig_shop = DATA[DATA.device_ID.isin(dev_shop.values)].max_sig.values\n",
      "minsig_shop = DATA[DATA.device_ID.isin(dev_shop.values)].min_sig.values\n",
      "diffsig_shop = maxsig_shop - minsig_shop\n",
      "\n",
      "maxsig_e = DATA[DATA.device_ID.isin(dev_every.values)].max_sig.values\n",
      "minsig_e = DATA[DATA.device_ID.isin(dev_every.values)].min_sig.values\n",
      "diffsig_e = maxsig_e - minsig_e\n",
      "\n",
      "maxsig = [maxsig_short, maxsig_shop, maxsig_e]\n",
      "minsig = [minsig_short, minsig_shop, minsig_e]\n",
      "diffsig = [diffsig_short, diffsig_shop, diffsig_e]\n",
      "\n",
      "plt.figure(0)\n",
      "plt.boxplot(maxsig,notch=True);\n",
      "plt.title('Max Signal Strength, per t_window')\n",
      "plt.ylabel('Counts')\n",
      "plt.xlabel('Signal Strength')\n",
      "plt.xticks([1,2,3],['Passing','Shopping','Everyday_Long']);\n",
      "\n",
      "plt.figure(1)\n",
      "plt.boxplot(minsig,notch=True);\n",
      "plt.title('Min Signal Strength, per t_window')\n",
      "plt.ylabel('Counts')\n",
      "plt.xlabel('Signal Strength')\n",
      "plt.xticks([1,2,3],['Passing','Shopping','Everyday_Long']);\n",
      "\n",
      "plt.figure(2)\n",
      "plt.boxplot(diffsig,notch=True);\n",
      "plt.title('Differential Signal Strength, per t_window')\n",
      "plt.ylabel('Counts')\n",
      "plt.xlabel('Differential Strength')\n",
      "plt.xticks([1,2,3],['Passing','Shopping','Everyday_Long']);"
     ],
     "language": "python",
     "metadata": {},
     "outputs": [
      {
       "metadata": {},
       "output_type": "display_data",
       "png": "[encoded data removed]",
       "text": [
        "<matplotlib.figure.Figure at 0x1064d9590>"
       ]
      },
      {
       "metadata": {},
       "output_type": "display_data",
       "png": "[encoded data removed]",
       "text": [
        "<matplotlib.figure.Figure at 0x1064e9cd0>"
       ]
      },
      {
       "metadata": {},
       "output_type": "display_data",
       "png": "[encoded data removed]",
       "text": [
        "<matplotlib.figure.Figure at 0x1064e63d0>"
       ]
      }
     ],
     "prompt_number": 31
    }
   ],
   "metadata": {}
  }
 ]
}